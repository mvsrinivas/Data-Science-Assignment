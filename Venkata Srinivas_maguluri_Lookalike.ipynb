{
  "nbformat": 4,
  "nbformat_minor": 0,
  "metadata": {
    "colab": {
      "provenance": []
    },
    "kernelspec": {
      "name": "python3",
      "display_name": "Python 3"
    },
    "language_info": {
      "name": "python"
    }
  },
  "cells": [
    {
      "cell_type": "code",
      "source": [
        "# Calculate total spending and number of transactions per customer\n",
        "customer_profiles = merged_data.groupby('CustomerID').agg({\n",
        "    'TotalValue': 'sum',\n",
        "    'TransactionID': 'nunique',\n",
        "    'Region': 'first',\n",
        "    'SignupDate': 'first'\n",
        "}).reset_index()\n",
        "\n",
        "# Rename columns\n",
        "customer_profiles.columns = ['CustomerID', 'TotalSpending', 'NumTransactions', 'Region', 'SignupDate']\n",
        "print(customer_profiles.head())"
      ],
      "metadata": {
        "colab": {
          "base_uri": "https://localhost:8080/"
        },
        "id": "2y1f04Ydcej4",
        "outputId": "b8907fdd-2c90-47d6-b6c8-dd2bf91af9d1"
      },
      "execution_count": null,
      "outputs": [
        {
          "output_type": "stream",
          "name": "stdout",
          "text": [
            "  CustomerID  TotalSpending  NumTransactions         Region  SignupDate\n",
            "0      C0001        3354.52                5  South America  2022-07-10\n",
            "1      C0002        1862.74                4           Asia  2022-02-13\n",
            "2      C0003        2725.38                4  South America  2024-03-07\n",
            "3      C0004        5354.88                8  South America  2022-10-09\n",
            "4      C0005        2034.24                3           Asia  2022-08-15\n"
          ]
        }
      ]
    },
    {
      "cell_type": "code",
      "source": [
        "from sklearn.preprocessing import MinMaxScaler\n",
        "\n",
        "scaler = MinMaxScaler()\n",
        "customer_profiles[['TotalSpending', 'NumTransactions']] = scaler.fit_transform(\n",
        "    customer_profiles[['TotalSpending', 'NumTransactions']]\n",
        ")"
      ],
      "metadata": {
        "id": "GGTJB55ocjAt"
      },
      "execution_count": null,
      "outputs": []
    },
    {
      "cell_type": "code",
      "source": [
        "from sklearn.metrics.pairwise import cosine_similarity\n",
        "\n",
        "# Calculate similarity matrix\n",
        "similarity_matrix = cosine_similarity(customer_profiles[['TotalSpending', 'NumTransactions']])\n",
        "\n",
        "# Convert to a DataFrame for easier handling\n",
        "similarity_df = pd.DataFrame(similarity_matrix, index=customer_profiles['CustomerID'], columns=customer_profiles['CustomerID'])"
      ],
      "metadata": {
        "id": "UFTM31X-cn3r"
      },
      "execution_count": null,
      "outputs": []
    },
    {
      "cell_type": "code",
      "source": [
        "lookalikes = {}\n",
        "for customer in customer_profiles['CustomerID'][:20]:  # First 20 customers\n",
        "    similar_customers = similarity_df[customer].sort_values(ascending=False)[1:4]  # Exclude self\n",
        "    lookalikes[customer] = list(zip(similar_customers.index, similar_customers.values))"
      ],
      "metadata": {
        "id": "gzw60c5ucres"
      },
      "execution_count": null,
      "outputs": []
    },
    {
      "cell_type": "code",
      "source": [
        "import csv\n",
        "\n",
        "with open('Lookalike.csv', 'w', newline='') as file:\n",
        "    writer = csv.writer(file)\n",
        "    writer.writerow(['CustomerID', 'Lookalikes'])\n",
        "    for customer, similar in lookalikes.items():\n",
        "        writer.writerow([customer, similar])"
      ],
      "metadata": {
        "id": "haW3Ps_Ocums"
      },
      "execution_count": null,
      "outputs": []
    },
    {
      "cell_type": "code",
      "source": [
        "import csv\n",
        "\n",
        "# Open a file for writing\n",
        "with open('Lookalike.csv', 'w', newline='') as file:\n",
        "    writer = csv.writer(file)\n",
        "    # Write the header\n",
        "    writer.writerow(['CustomerID', 'Lookalikes'])\n",
        "    # Write the data\n",
        "    for customer, similar in lookalikes.items():\n",
        "        writer.writerow([customer, similar])"
      ],
      "metadata": {
        "id": "XR8X55HRdAv3"
      },
      "execution_count": null,
      "outputs": []
    },
    {
      "cell_type": "code",
      "source": [
        "import pandas as pd\n",
        "\n",
        "# Load the CSV file\n",
        "lookalike_data = pd.read_csv('Lookalike.csv')\n",
        "print(lookalike_data.head())"
      ],
      "metadata": {
        "colab": {
          "base_uri": "https://localhost:8080/"
        },
        "id": "xoiV8nvndBLW",
        "outputId": "fe124e7b-dc6c-48ee-90f5-a3e2d223cb58"
      },
      "execution_count": null,
      "outputs": [
        {
          "output_type": "stream",
          "name": "stdout",
          "text": [
            "  CustomerID                                         Lookalikes\n",
            "0      C0001  [('C0173', 0.9999999987151875), ('C0145', 0.99...\n",
            "1      C0002  [('C0103', 0.9999993502213471), ('C0024', 0.99...\n",
            "2      C0003  [('C0155', 0.9999996159457006), ('C0132', 0.99...\n",
            "3      C0004  [('C0164', 0.9999993005704118), ('C0156', 0.99...\n",
            "4      C0005  [('C0193', 0.9999999885232681), ('C0092', 0.99...\n"
          ]
        }
      ]
    },
    {
      "cell_type": "code",
      "source": [
        "from google.colab import files\n",
        "files.download('Lookalike.csv')"
      ],
      "metadata": {
        "colab": {
          "base_uri": "https://localhost:8080/",
          "height": 17
        },
        "id": "di7PWaQjdBN_",
        "outputId": "19e726e5-17a7-4c46-8315-ba4a7251966b"
      },
      "execution_count": null,
      "outputs": [
        {
          "output_type": "display_data",
          "data": {
            "text/plain": [
              "<IPython.core.display.Javascript object>"
            ],
            "application/javascript": [
              "\n",
              "    async function download(id, filename, size) {\n",
              "      if (!google.colab.kernel.accessAllowed) {\n",
              "        return;\n",
              "      }\n",
              "      const div = document.createElement('div');\n",
              "      const label = document.createElement('label');\n",
              "      label.textContent = `Downloading \"${filename}\": `;\n",
              "      div.appendChild(label);\n",
              "      const progress = document.createElement('progress');\n",
              "      progress.max = size;\n",
              "      div.appendChild(progress);\n",
              "      document.body.appendChild(div);\n",
              "\n",
              "      const buffers = [];\n",
              "      let downloaded = 0;\n",
              "\n",
              "      const channel = await google.colab.kernel.comms.open(id);\n",
              "      // Send a message to notify the kernel that we're ready.\n",
              "      channel.send({})\n",
              "\n",
              "      for await (const message of channel.messages) {\n",
              "        // Send a message to notify the kernel that we're ready.\n",
              "        channel.send({})\n",
              "        if (message.buffers) {\n",
              "          for (const buffer of message.buffers) {\n",
              "            buffers.push(buffer);\n",
              "            downloaded += buffer.byteLength;\n",
              "            progress.value = downloaded;\n",
              "          }\n",
              "        }\n",
              "      }\n",
              "      const blob = new Blob(buffers, {type: 'application/binary'});\n",
              "      const a = document.createElement('a');\n",
              "      a.href = window.URL.createObjectURL(blob);\n",
              "      a.download = filename;\n",
              "      div.appendChild(a);\n",
              "      a.click();\n",
              "      div.remove();\n",
              "    }\n",
              "  "
            ]
          },
          "metadata": {}
        },
        {
          "output_type": "display_data",
          "data": {
            "text/plain": [
              "<IPython.core.display.Javascript object>"
            ],
            "application/javascript": [
              "download(\"download_dfd2e986-c6b4-4d2c-a1b3-14a1026a0883\", \"Lookalike.csv\", 1989)"
            ]
          },
          "metadata": {}
        }
      ]
    },
    {
      "cell_type": "code",
      "source": [],
      "metadata": {
        "id": "MjWFgWMwdBQ8"
      },
      "execution_count": null,
      "outputs": []
    }
  ]
}
